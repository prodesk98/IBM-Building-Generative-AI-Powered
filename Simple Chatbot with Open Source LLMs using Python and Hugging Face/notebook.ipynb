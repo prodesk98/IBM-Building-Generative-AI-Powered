{
 "cells": [
  {
   "cell_type": "code",
   "id": "initial_id",
   "metadata": {
    "collapsed": true,
    "ExecuteTime": {
     "end_time": "2025-07-01T18:46:18.872616Z",
     "start_time": "2025-07-01T18:46:18.865499Z"
    }
   },
   "source": "from transformers import AutoTokenizer, AutoModelForSeq2SeqLM",
   "outputs": [],
   "execution_count": 7
  },
  {
   "metadata": {
    "ExecuteTime": {
     "end_time": "2025-07-01T18:46:36.642535Z",
     "start_time": "2025-07-01T18:46:36.638161Z"
    }
   },
   "cell_type": "code",
   "source": "model_name = \"facebook/blenderbot-400M-distill\"",
   "id": "c641afeef8ba10ac",
   "outputs": [],
   "execution_count": 8
  },
  {
   "metadata": {},
   "cell_type": "code",
   "source": [
    "# Load model (download on first run and reference local installation for consequent runs)\n",
    "model = AutoModelForSeq2SeqLM.from_pretrained(model_name)\n",
    "tokenizer = AutoTokenizer.from_pretrained(model_name)"
   ],
   "id": "ee2449dcff585139",
   "outputs": [],
   "execution_count": null
  },
  {
   "metadata": {
    "ExecuteTime": {
     "end_time": "2025-07-01T18:47:17.252589Z",
     "start_time": "2025-07-01T18:47:17.249164Z"
    }
   },
   "cell_type": "code",
   "source": "conversation_history = []",
   "id": "fad36ccf8f7f4475",
   "outputs": [],
   "execution_count": 10
  },
  {
   "metadata": {
    "ExecuteTime": {
     "end_time": "2025-07-01T18:47:28.493839Z",
     "start_time": "2025-07-01T18:47:28.489891Z"
    }
   },
   "cell_type": "code",
   "source": "history_string = \"\\n\".join(conversation_history)",
   "id": "8ec09fbfe8428a09",
   "outputs": [],
   "execution_count": 11
  },
  {
   "metadata": {
    "ExecuteTime": {
     "end_time": "2025-07-01T18:47:29.675767Z",
     "start_time": "2025-07-01T18:47:29.670893Z"
    }
   },
   "cell_type": "code",
   "source": "input_text =\"hello, how are you doing?\"",
   "id": "f3924b219dd9256d",
   "outputs": [],
   "execution_count": 12
  },
  {
   "metadata": {
    "ExecuteTime": {
     "end_time": "2025-07-01T18:47:35.972143Z",
     "start_time": "2025-07-01T18:47:35.964288Z"
    }
   },
   "cell_type": "code",
   "source": [
    "inputs = tokenizer.encode_plus(history_string, input_text, return_tensors=\"pt\")\n",
    "inputs"
   ],
   "id": "3236606eb6cbf6a6",
   "outputs": [
    {
     "data": {
      "text/plain": [
       "{'input_ids': tensor([[1710,   86,   19,  544,  366,  304,  929,   38]]), 'attention_mask': tensor([[1, 1, 1, 1, 1, 1, 1, 1]])}"
      ]
     },
     "execution_count": 13,
     "metadata": {},
     "output_type": "execute_result"
    }
   ],
   "execution_count": 13
  },
  {
   "metadata": {
    "ExecuteTime": {
     "end_time": "2025-07-01T18:47:53.024454Z",
     "start_time": "2025-07-01T18:47:50.791579Z"
    }
   },
   "cell_type": "code",
   "source": [
    "outputs = model.generate(**inputs)\n",
    "outputs"
   ],
   "id": "50c35e78f9ed5a74",
   "outputs": [
    {
     "data": {
      "text/plain": [
       "tensor([[   1,  281,  476,  929,  731,   21,  281,  632,  929,  712,  731,   21,\n",
       "          855,  366,  304,   38,  946,  304,  360,  463, 5459, 7930,   38,    2]])"
      ]
     },
     "execution_count": 14,
     "metadata": {},
     "output_type": "execute_result"
    }
   ],
   "execution_count": 14
  },
  {
   "metadata": {
    "ExecuteTime": {
     "end_time": "2025-07-01T18:48:06.390575Z",
     "start_time": "2025-07-01T18:48:06.384300Z"
    }
   },
   "cell_type": "code",
   "source": [
    "response = tokenizer.decode(outputs[0], skip_special_tokens=True).strip()\n",
    "response"
   ],
   "id": "eb0be1e0bf5d12f0",
   "outputs": [
    {
     "data": {
      "text/plain": [
       "\"I'm doing well. I am doing very well. How are you? Do you have any hobbies?\""
      ]
     },
     "execution_count": 15,
     "metadata": {},
     "output_type": "execute_result"
    }
   ],
   "execution_count": 15
  },
  {
   "metadata": {
    "ExecuteTime": {
     "end_time": "2025-07-01T18:48:20.939753Z",
     "start_time": "2025-07-01T18:48:20.934361Z"
    }
   },
   "cell_type": "code",
   "source": [
    "conversation_history.append(input_text)\n",
    "conversation_history.append(response)\n",
    "conversation_history"
   ],
   "id": "c3fc2178145d1ffb",
   "outputs": [
    {
     "data": {
      "text/plain": [
       "['hello, how are you doing?',\n",
       " \"I'm doing well. I am doing very well. How are you? Do you have any hobbies?\"]"
      ]
     },
     "execution_count": 16,
     "metadata": {},
     "output_type": "execute_result"
    }
   ],
   "execution_count": 16
  },
  {
   "metadata": {},
   "cell_type": "code",
   "outputs": [],
   "execution_count": null,
   "source": "",
   "id": "8565a8b0b7737677"
  }
 ],
 "metadata": {
  "kernelspec": {
   "display_name": "Python 3 (ipykernel)",
   "language": "python",
   "name": "python3"
  },
  "language_info": {
   "codemirror_mode": {
    "name": "ipython",
    "version": 2
   },
   "file_extension": ".py",
   "mimetype": "text/x-python",
   "name": "python",
   "nbconvert_exporter": "python",
   "pygments_lexer": "ipython2",
   "version": "2.7.6"
  }
 },
 "nbformat": 4,
 "nbformat_minor": 5
}
