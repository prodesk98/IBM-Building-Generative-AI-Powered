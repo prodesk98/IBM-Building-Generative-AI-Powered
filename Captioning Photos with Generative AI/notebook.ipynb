{
 "cells": [
  {
   "cell_type": "code",
   "id": "initial_id",
   "metadata": {
    "collapsed": true,
    "ExecuteTime": {
     "end_time": "2025-07-01T18:08:59.601996Z",
     "start_time": "2025-07-01T18:08:57.166268Z"
    }
   },
   "source": [
    "from PIL import Image\n",
    "from transformers import AutoProcessor, BlipForConditionalGeneration"
   ],
   "outputs": [],
   "execution_count": 1
  },
  {
   "metadata": {
    "ExecuteTime": {
     "end_time": "2025-07-01T18:09:10.068632Z",
     "start_time": "2025-07-01T18:09:07.789022Z"
    }
   },
   "cell_type": "code",
   "source": [
    "# Load the pretrained processor and model\n",
    "processor = AutoProcessor.from_pretrained(\"Salesforce/blip-image-captioning-base\")\n",
    "model = BlipForConditionalGeneration.from_pretrained(\"Salesforce/blip-image-captioning-base\")"
   ],
   "id": "914822784ce5688a",
   "outputs": [
    {
     "name": "stderr",
     "output_type": "stream",
     "text": [
      "C:\\Users\\prode\\PycharmProjects\\IBM-Building-Generative-AI-Powered\\.venv\\Lib\\site-packages\\huggingface_hub\\file_download.py:943: FutureWarning: `resume_download` is deprecated and will be removed in version 1.0.0. Downloads always resume when possible. If you want to force a new download, use `force_download=True`.\n",
      "  warnings.warn(\n"
     ]
    }
   ],
   "execution_count": 2
  },
  {
   "metadata": {
    "ExecuteTime": {
     "end_time": "2025-07-01T18:09:28.667853Z",
     "start_time": "2025-07-01T18:09:28.650026Z"
    }
   },
   "cell_type": "code",
   "source": [
    "# Load your image, DON'T FORGET TO WRITE YOUR IMAGE NAME\n",
    "img_path = \"images/pipeline-cat-chonk.jpeg\"\n",
    "# convert it into an RGB format\n",
    "image = Image.open(img_path).convert('RGB')"
   ],
   "id": "ad46098b73ced039",
   "outputs": [],
   "execution_count": 3
  },
  {
   "metadata": {
    "ExecuteTime": {
     "end_time": "2025-07-01T18:09:37.094966Z",
     "start_time": "2025-07-01T18:09:37.064983Z"
    }
   },
   "cell_type": "code",
   "source": [
    "text = \"the image of\"\n",
    "inputs = processor(images=image, text=text, return_tensors=\"pt\")"
   ],
   "id": "87d98e4ad2256820",
   "outputs": [],
   "execution_count": 4
  },
  {
   "metadata": {
    "ExecuteTime": {
     "end_time": "2025-07-01T18:09:43.406656Z",
     "start_time": "2025-07-01T18:09:41.196488Z"
    }
   },
   "cell_type": "code",
   "source": "outputs = model.generate(**inputs, max_length=50)",
   "id": "fb61530bf3bcd4c9",
   "outputs": [],
   "execution_count": 5
  },
  {
   "metadata": {
    "ExecuteTime": {
     "end_time": "2025-07-01T18:09:48.931438Z",
     "start_time": "2025-07-01T18:09:48.924207Z"
    }
   },
   "cell_type": "code",
   "source": [
    "caption = processor.decode(outputs[0], skip_special_tokens=True)\n",
    "caption"
   ],
   "id": "425dd8b1bdd81332",
   "outputs": [
    {
     "data": {
      "text/plain": [
       "'the image of a small rabbit in the snow'"
      ]
     },
     "execution_count": 6,
     "metadata": {},
     "output_type": "execute_result"
    }
   ],
   "execution_count": 6
  },
  {
   "metadata": {},
   "cell_type": "code",
   "outputs": [],
   "execution_count": null,
   "source": "",
   "id": "88b775e85276a4b8"
  }
 ],
 "metadata": {
  "kernelspec": {
   "display_name": "Python 3 (ipykernel)",
   "language": "python",
   "name": "python3"
  },
  "language_info": {
   "codemirror_mode": {
    "name": "ipython",
    "version": 2
   },
   "file_extension": ".py",
   "mimetype": "text/x-python",
   "name": "python",
   "nbconvert_exporter": "python",
   "pygments_lexer": "ipython2",
   "version": "2.7.6"
  }
 },
 "nbformat": 4,
 "nbformat_minor": 5
}
